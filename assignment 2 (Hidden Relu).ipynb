{
 "cells": [
  {
   "cell_type": "code",
   "execution_count": 9,
   "metadata": {
    "collapsed": false
   },
   "outputs": [],
   "source": [
    "import numpy as np\n",
    "import tensorflow as tf\n",
    "from six.moves import cPickle as pickle\n",
    "from six.moves import range"
   ]
  },
  {
   "cell_type": "code",
   "execution_count": 10,
   "metadata": {
    "collapsed": false
   },
   "outputs": [
    {
     "name": "stdout",
     "output_type": "stream",
     "text": [
      "Training dataset (121885, 28, 28) (121885,)\n",
      "Validation set (10000, 28, 28) (10000,)\n",
      "Testing dataset (4620, 28, 28) (4620,)\n"
     ]
    }
   ],
   "source": [
    "pickle_file='notMNIST.pickle'\n",
    "\n",
    "with open(pickle_file,'rb') as f:\n",
    "    save=pickle.load(f)\n",
    "    train_dataset=save['train_dataset']\n",
    "    train_labels=save['train_labels']\n",
    "    valid_dataset=save['valid_dataset']\n",
    "    valid_labels=save['valid_labels']\n",
    "    test_dataset=save['test_dataset']\n",
    "    test_labels=save['test_labels']\n",
    "    del save\n",
    "    print('Training dataset',train_dataset.shape,train_labels.shape)\n",
    "    print('Validation set', valid_dataset.shape, valid_labels.shape)\n",
    "    print('Testing dataset',test_dataset.shape,test_labels.shape)\n"
   ]
  },
  {
   "cell_type": "code",
   "execution_count": 11,
   "metadata": {
    "collapsed": false
   },
   "outputs": [
    {
     "name": "stdout",
     "output_type": "stream",
     "text": [
      "Training dataset (121885, 784) (121885, 10)\n",
      "Validation set (10000, 784) (10000, 10)\n",
      "Testing dataset (4620, 784) (4620, 10)\n"
     ]
    }
   ],
   "source": [
    "image_size=28\n",
    "num_labels=10\n",
    "\n",
    "def reformat(dataset,labels):\n",
    "    dataset=dataset.reshape(-1,image_size*image_size).astype(np.float32)\n",
    "    labels=(np.arange(num_labels)==labels[:,None]).astype(np.float32)\n",
    "    return dataset , labels\n",
    "train_dataset,train_labels=reformat(train_dataset,train_labels)\n",
    "test_dataset,test_labels=reformat(test_dataset,test_labels)\n",
    "valid_dataset,valid_labels=reformat(valid_dataset,valid_labels)\n",
    "print('Training dataset',train_dataset.shape,train_labels.shape)\n",
    "print('Validation set', valid_dataset.shape, valid_labels.shape)\n",
    "print('Testing dataset',test_dataset.shape,test_labels.shape)    "
   ]
  },
  {
   "cell_type": "code",
   "execution_count": 12,
   "metadata": {
    "collapsed": false
   },
   "outputs": [],
   "source": [
    "#tensorflow part\n",
    "train_subset=10000\n",
    "\n",
    "graph=tf.Graph()\n",
    "with graph.as_default():\n",
    "    \n",
    "    #input read\n",
    "    tf_train_dataset=tf.constant(train_dataset[:train_subset,:])\n",
    "    tf_train_labels=tf.constant(train_labels[:train_subset,:])\n",
    "    tf_valid_dataset=tf.constant(valid_dataset)\n",
    "    tf_test_dataset=tf.constant(test_dataset)\n",
    "    \n",
    "    #variables\n",
    "    weights=tf.Variable(tf.truncated_normal([image_size*image_size,num_labels]))\n",
    "    biases=tf.Variable(tf.zeros([num_labels]))\n",
    "    \n",
    "    #training computation\n",
    "    logits=tf.matmul(tf_train_dataset,weights)+biases\n",
    "    loss=tf.reduce_mean(tf.nn.softmax_cross_entropy_with_logits(logits,tf_train_labels))\n",
    "    \n",
    "    #optimizer\n",
    "    optimizer=tf.train.GradientDescentOptimizer(0.5).minimize(loss)\n",
    "    \n",
    "    train_predictions=tf.nn.softmax(logits)\n",
    "    test_predicitions=tf.nn.softmax(tf.matmul(tf_test_dataset,weights)+biases)\n",
    "    valid_predicitons=tf.nn.softmax(tf.matmul(tf_valid_dataset,weights)+biases)\n",
    "    \n",
    "    \n",
    "    \n"
   ]
  },
  {
   "cell_type": "code",
   "execution_count": 13,
   "metadata": {
    "collapsed": false
   },
   "outputs": [
    {
     "name": "stdout",
     "output_type": "stream",
     "text": [
      "initialized\n",
      "Loss at step 0: 20.055002\n",
      "Training accuracy: 7.3%\n",
      "Validation accuracy 8.4%\n",
      "Loss at step 100: 2.296377\n",
      "Training accuracy: 71.8%\n",
      "Validation accuracy 70.6%\n",
      "Loss at step 200: 1.816701\n",
      "Training accuracy: 75.4%\n",
      "Validation accuracy 73.6%\n",
      "Loss at step 300: 1.575947\n",
      "Training accuracy: 76.7%\n",
      "Validation accuracy 74.5%\n",
      "Loss at step 400: 1.416318\n",
      "Training accuracy: 77.5%\n",
      "Validation accuracy 75.0%\n",
      "Loss at step 500: 1.299955\n",
      "Training accuracy: 78.4%\n",
      "Validation accuracy 75.3%\n",
      "Loss at step 600: 1.209390\n",
      "Training accuracy: 78.9%\n",
      "Validation accuracy 75.6%\n",
      "Loss at step 700: 1.135837\n",
      "Training accuracy: 79.4%\n",
      "Validation accuracy 75.8%\n",
      "Loss at step 800: 1.074277\n",
      "Training accuracy: 79.9%\n",
      "Validation accuracy 75.7%\n",
      "Test accuracy: 83.3%\n"
     ]
    }
   ],
   "source": [
    "num_steps=801\n",
    "\n",
    "\n",
    "def accuracy(predictions,labels):\n",
    "      return (100.0 * np.sum(np.argmax(predictions, 1) == np.argmax(labels, 1))/ predictions.shape[0])\n",
    "\n",
    "with tf.Session(graph=graph) as session:\n",
    "    \n",
    "    tf.initialize_all_variables().run()\n",
    "    print('initialized')\n",
    "    for step in range(num_steps):\n",
    "        _,l,predicitions=session.run([optimizer,loss,train_predictions])\n",
    "        if(step%100==0):\n",
    "            print('Loss at step %d: %f'%(step,l))\n",
    "            print('Training accuracy: %.1f%%'%accuracy(predicitions,train_labels[:train_subset,:]))\n",
    "            \n",
    "            print('Validation accuracy %.1f%%'%accuracy(valid_predicitons.eval(),valid_labels))\n",
    "            \n",
    "    print('Test accuracy: %.1f%%'%accuracy(test_predicitions.eval(),test_labels))\n",
    "              \n",
    "          \n",
    "          \n",
    "        \n",
    "          "
   ]
  },
  {
   "cell_type": "code",
   "execution_count": 14,
   "metadata": {
    "collapsed": false
   },
   "outputs": [],
   "source": [
    "#stochastoc gradient descent\n",
    "\n",
    "batch_size=128\n",
    "\n",
    "graph=tf.Graph()\n",
    "\n",
    "with graph.as_default():\n",
    "    \n",
    "    #input\n",
    "    tf_train_dataset=tf.placeholder(np.float32,shape=(batch_size,image_size*image_size))\n",
    "    tf_train_labels=tf.placeholder(np.float32,shape=(batch_size,num_labels))\n",
    "    tf_valid_dataset=tf.constant(valid_dataset)\n",
    "    tf_test_dataset=tf.constant(test_dataset)\n",
    "    \n",
    "    # Variables.\n",
    "    weights = tf.Variable(\n",
    "    tf.truncated_normal([image_size * image_size, num_labels]))\n",
    "    biases = tf.Variable(tf.zeros([num_labels]))\n",
    "\n",
    "    # Training computation.\n",
    "    logits = tf.matmul(tf_train_dataset, weights) + biases\n",
    "    loss = tf.reduce_mean(\n",
    "    tf.nn.softmax_cross_entropy_with_logits(logits, tf_train_labels))\n",
    "\n",
    "    # Optimizer.\n",
    "    optimizer = tf.train.GradientDescentOptimizer(0.5).minimize(loss)\n",
    "\n",
    "    # Predictions for the training, validation, and test data.\n",
    "    train_prediction = tf.nn.softmax(logits)\n",
    "    valid_prediction = tf.nn.softmax(\n",
    "    tf.matmul(tf_valid_dataset, weights) + biases)\n",
    "    test_prediction = tf.nn.softmax(tf.matmul(tf_test_dataset, weights) + biases)\n"
   ]
  },
  {
   "cell_type": "code",
   "execution_count": 15,
   "metadata": {
    "collapsed": false
   },
   "outputs": [
    {
     "name": "stdout",
     "output_type": "stream",
     "text": [
      "initialized\n",
      "Minibatch loss at step 0: 13.985790\n",
      "Minibatch accuracy: 10.9%\n",
      "Validation accuracy: 13.0%\n",
      "Minibatch loss at step 500: 2.203452\n",
      "Minibatch accuracy: 67.2%\n",
      "Validation accuracy: 76.1%\n",
      "Minibatch loss at step 1000: 1.188179\n",
      "Minibatch accuracy: 77.3%\n",
      "Validation accuracy: 77.0%\n",
      "Minibatch loss at step 1500: 1.359336\n",
      "Minibatch accuracy: 73.4%\n",
      "Validation accuracy: 77.0%\n",
      "Minibatch loss at step 2000: 0.922862\n",
      "Minibatch accuracy: 76.6%\n",
      "Validation accuracy: 78.5%\n",
      "Minibatch loss at step 2500: 0.989969\n",
      "Minibatch accuracy: 78.1%\n",
      "Validation accuracy: 78.4%\n",
      "Minibatch loss at step 3000: 0.881056\n",
      "Minibatch accuracy: 79.7%\n",
      "Validation accuracy: 79.0%\n",
      "Test accuracy: 85.5%\n"
     ]
    }
   ],
   "source": [
    "#run\n",
    "\n",
    "num_steps=3001\n",
    " \n",
    "with tf.Session(graph=graph) as session:\n",
    "    \n",
    "    tf.initialize_all_variables().run()\n",
    "    print('initialized')\n",
    "    \n",
    "    for step in range(num_steps):\n",
    "        \n",
    "        offset=(step*batch_size)%(train_labels.shape[0]-batch_size)\n",
    "        \n",
    "        batch_data=train_dataset[offset:(offset+batch_size),:]\n",
    "        batch_labels=train_labels[offset:(offset+batch_size),:]\n",
    "        \n",
    "        feed_dict={tf_train_dataset:batch_data,tf_train_labels:batch_labels}\n",
    "        \n",
    "        _,l,predictions=session.run([optimizer,loss,train_prediction],feed_dict=feed_dict)\n",
    "        \n",
    "        if (step % 500 == 0):\n",
    "            print(\"Minibatch loss at step %d: %f\" % (step, l))\n",
    "            print(\"Minibatch accuracy: %.1f%%\" % accuracy(predictions, batch_labels))\n",
    "            print(\"Validation accuracy: %.1f%%\" % accuracy(\n",
    "            valid_prediction.eval(), valid_labels))\n",
    "    print(\"Test accuracy: %.1f%%\" % accuracy(test_prediction.eval(), test_labels))\n",
    "        "
   ]
  },
  {
   "cell_type": "code",
   "execution_count": 25,
   "metadata": {
    "collapsed": false
   },
   "outputs": [],
   "source": [
    "#Problem\n",
    "\n",
    "hidden_size=1024\n",
    "\n",
    "graph=tf.Graph()\n",
    "\n",
    "with graph.as_default():\n",
    "    \n",
    "    tf_train_dataset=tf.placeholder(np.float32,shape=(batch_size,image_size*image_size))\n",
    "    tf_train_labels=tf.placeholder(np.float32,shape=(batch_size,num_labels))\n",
    "    tf_valid_dataset=tf.constant(valid_dataset)\n",
    "    tf_test_dataset=tf.constant(test_dataset)\n",
    "    \n",
    "    weights_1 = tf.Variable(\n",
    "    tf.truncated_normal([image_size * image_size, hidden_size]))\n",
    "    biases_1 = tf.Variable(tf.zeros([hidden_size]))\n",
    "    \n",
    "    hidden_1=tf.nn.relu(tf.matmul(tf_train_dataset,weights_1)+biases_1)\n",
    "    \n",
    "    weights_2 = tf.Variable(\n",
    "    tf.truncated_normal([hidden_size, num_labels]))\n",
    "    biases_2 = tf.Variable(tf.zeros([num_labels]))\n",
    "    \n",
    "    logits=tf.matmul(hidden_1,weights_2)+biases_2\n",
    "    loss = tf.reduce_mean(\n",
    "    tf.nn.softmax_cross_entropy_with_logits(logits, tf_train_labels))\n",
    "    \n",
    "    optimizer = tf.train.GradientDescentOptimizer(0.1).minimize(loss)\n",
    "\n",
    "    # Predictions for the training, validation, and test data.\n",
    "    train_prediction = tf.nn.softmax(logits)\n",
    "    valid_prediction = tf.nn.softmax(\n",
    "    tf.matmul(tf.nn.relu((tf.matmul(tf_valid_dataset, weights_1) + biases_1)),weights_2)+biases_2)\n",
    "    test_prediction = tf.nn.softmax(\n",
    "    tf.matmul(tf.nn.relu((tf.matmul(tf_test_dataset, weights_1) + biases_1)),weights_2)+biases_2)"
   ]
  },
  {
   "cell_type": "code",
   "execution_count": 26,
   "metadata": {
    "collapsed": false
   },
   "outputs": [
    {
     "name": "stdout",
     "output_type": "stream",
     "text": [
      "initialized\n",
      "Minibatch loss at step 0: 377.989838\n",
      "Minibatch accuracy: 10.9%\n",
      "Validation accuracy: 29.2%\n",
      "Minibatch loss at step 500: 19.684687\n",
      "Minibatch accuracy: 78.1%\n",
      "Validation accuracy: 79.9%\n",
      "Minibatch loss at step 1000: 9.062372\n",
      "Minibatch accuracy: 82.8%\n",
      "Validation accuracy: 82.7%\n",
      "Minibatch loss at step 1500: 11.048413\n",
      "Minibatch accuracy: 85.2%\n",
      "Validation accuracy: 83.5%\n",
      "Minibatch loss at step 2000: 6.033473\n",
      "Minibatch accuracy: 85.9%\n",
      "Validation accuracy: 83.6%\n",
      "Minibatch loss at step 2500: 15.972140\n",
      "Minibatch accuracy: 76.6%\n",
      "Validation accuracy: 83.2%\n",
      "Minibatch loss at step 3000: 8.238071\n",
      "Minibatch accuracy: 83.6%\n",
      "Validation accuracy: 82.7%\n",
      "Test accuracy: 89.2%\n"
     ]
    }
   ],
   "source": [
    "\n",
    "num_steps=3001\n",
    " \n",
    "with tf.Session(graph=graph) as session:\n",
    "    \n",
    "    tf.initialize_all_variables().run()\n",
    "    print('initialized')\n",
    "    \n",
    "    for step in range(num_steps):\n",
    "        \n",
    "        offset=(step*batch_size)%(train_labels.shape[0]-batch_size)\n",
    "        \n",
    "        batch_data=train_dataset[offset:(offset+batch_size),:]\n",
    "        batch_labels=train_labels[offset:(offset+batch_size),:]\n",
    "        \n",
    "        feed_dict={tf_train_dataset:batch_data,tf_train_labels:batch_labels}\n",
    "        \n",
    "        _,l,predictions=session.run([optimizer,loss,train_prediction],feed_dict=feed_dict)\n",
    "        \n",
    "        if (step % 500 == 0):\n",
    "            print(\"Minibatch loss at step %d: %f\" % (step, l))\n",
    "            print(\"Minibatch accuracy: %.1f%%\" % accuracy(predictions, batch_labels))\n",
    "            print(\"Validation accuracy: %.1f%%\" % accuracy(\n",
    "            valid_prediction.eval(), valid_labels))\n",
    "    print(\"Test accuracy: %.1f%%\" % accuracy(test_prediction.eval(), test_labels))"
   ]
  },
  {
   "cell_type": "code",
   "execution_count": null,
   "metadata": {
    "collapsed": true
   },
   "outputs": [],
   "source": []
  }
 ],
 "metadata": {
  "kernelspec": {
   "display_name": "Python 3",
   "language": "python",
   "name": "python3"
  },
  "language_info": {
   "codemirror_mode": {
    "name": "ipython",
    "version": 3
   },
   "file_extension": ".py",
   "mimetype": "text/x-python",
   "name": "python",
   "nbconvert_exporter": "python",
   "pygments_lexer": "ipython3",
   "version": "3.4.4"
  }
 },
 "nbformat": 4,
 "nbformat_minor": 0
}
