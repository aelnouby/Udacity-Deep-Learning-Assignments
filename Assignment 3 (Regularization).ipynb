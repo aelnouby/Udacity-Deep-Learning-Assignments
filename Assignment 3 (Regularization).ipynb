{
 "cells": [
  {
   "cell_type": "code",
   "execution_count": 1,
   "metadata": {
    "collapsed": true
   },
   "outputs": [],
   "source": [
    "import numpy as np\n",
    "import tensorflow as tf\n",
    "from six.moves import cPickle as pickle"
   ]
  },
  {
   "cell_type": "code",
   "execution_count": 2,
   "metadata": {
    "collapsed": false
   },
   "outputs": [
    {
     "name": "stdout",
     "output_type": "stream",
     "text": [
      "Training set (121885, 28, 28) (121885,)\n",
      "Validation set (10000, 28, 28) (10000,)\n",
      "Test set (4620, 28, 28) (4620,)\n"
     ]
    }
   ],
   "source": [
    "pickle_file = 'notMNIST.pickle'\n",
    "\n",
    "with open(pickle_file, 'rb') as f:\n",
    "    save = pickle.load(f)\n",
    "    train_dataset = save['train_dataset']\n",
    "    train_labels = save['train_labels']\n",
    "    valid_dataset = save['valid_dataset']\n",
    "    valid_labels = save['valid_labels']\n",
    "    test_dataset = save['test_dataset']\n",
    "    test_labels = save['test_labels']\n",
    "    del save  # hint to help gc free up memory\n",
    "    print('Training set', train_dataset.shape, train_labels.shape)\n",
    "    print('Validation set', valid_dataset.shape, valid_labels.shape)\n",
    "    print('Test set', test_dataset.shape, test_labels.shape)"
   ]
  },
  {
   "cell_type": "code",
   "execution_count": 3,
   "metadata": {
    "collapsed": false
   },
   "outputs": [
    {
     "name": "stdout",
     "output_type": "stream",
     "text": [
      "Training set (121885, 784) (121885, 10)\n",
      "Validation set (10000, 784) (10000, 10)\n",
      "Test set (4620, 784) (4620, 10)\n"
     ]
    }
   ],
   "source": [
    "image_size = 28\n",
    "num_labels = 10\n",
    "\n",
    "def reformat(dataset, labels):\n",
    "    dataset = dataset.reshape((-1, image_size * image_size)).astype(np.float32)\n",
    "    # Map 2 to [0.0, 1.0, 0.0 ...], 3 to [0.0, 0.0, 1.0 ...]\n",
    "    labels = (np.arange(num_labels) == labels[:,None]).astype(np.float32)\n",
    "    return dataset, labels\n",
    "train_dataset, train_labels = reformat(train_dataset, train_labels)\n",
    "valid_dataset, valid_labels = reformat(valid_dataset, valid_labels)\n",
    "test_dataset, test_labels = reformat(test_dataset, test_labels)\n",
    "print('Training set', train_dataset.shape, train_labels.shape)\n",
    "print('Validation set', valid_dataset.shape, valid_labels.shape)\n",
    "print('Test set', test_dataset.shape, test_labels.shape)"
   ]
  },
  {
   "cell_type": "code",
   "execution_count": 4,
   "metadata": {
    "collapsed": true
   },
   "outputs": [],
   "source": [
    "def accuracy(predictions, labels):\n",
    "    return (100.0 * np.sum(np.argmax(predictions, 1) == np.argmax(labels, 1))\n",
    "          / predictions.shape[0])"
   ]
  },
  {
   "cell_type": "code",
   "execution_count": 5,
   "metadata": {
    "collapsed": false
   },
   "outputs": [],
   "source": [
    "#problem 1\n",
    "hidden_size=1024\n",
    "batch_size =128\n",
    "\n",
    "beta1=0.001\n",
    "beta2=0.001\n",
    "\n",
    "graph=tf.Graph()\n",
    "\n",
    "with graph.as_default():\n",
    "    \n",
    "    tf_train_dataset=tf.placeholder(np.float32,shape=(batch_size,image_size*image_size))\n",
    "    tf_train_labels=tf.placeholder(np.float32,shape=(batch_size,num_labels))\n",
    "    tf_valid_dataset=tf.constant(valid_dataset)\n",
    "    tf_test_dataset=tf.constant(test_dataset)\n",
    "    \n",
    "    weights_1 = tf.Variable(\n",
    "    tf.truncated_normal([image_size * image_size, hidden_size]))\n",
    "    biases_1 = tf.Variable(tf.zeros([hidden_size]))\n",
    "    \n",
    "    hidden_1=tf.nn.relu(tf.matmul(tf_train_dataset,weights_1)+biases_1)\n",
    "    \n",
    "    weights_2 = tf.Variable(\n",
    "    tf.truncated_normal([hidden_size, num_labels]))\n",
    "    biases_2 = tf.Variable(tf.zeros([num_labels]))\n",
    "    \n",
    "    logits=tf.matmul(hidden_1,weights_2)+biases_2\n",
    "    loss = tf.reduce_mean(\n",
    "    tf.nn.softmax_cross_entropy_with_logits(logits, tf_train_labels))+beta1*tf.nn.l2_loss(weights_1)+beta2*tf.nn.l2_loss(weights_2)\n",
    "    \n",
    "    optimizer = tf.train.GradientDescentOptimizer(0.1).minimize(loss)\n",
    "\n",
    "    # Predictions for the training, validation, and test data.\n",
    "    train_prediction = tf.nn.softmax(logits)\n",
    "    valid_prediction = tf.nn.softmax(\n",
    "    tf.matmul(tf.nn.relu((tf.matmul(tf_valid_dataset, weights_1) + biases_1)),weights_2)+biases_2)\n",
    "    test_prediction = tf.nn.softmax(\n",
    "    tf.matmul(tf.nn.relu((tf.matmul(tf_test_dataset, weights_1) + biases_1)),weights_2)+biases_2)"
   ]
  },
  {
   "cell_type": "code",
   "execution_count": 6,
   "metadata": {
    "collapsed": false
   },
   "outputs": [
    {
     "name": "stdout",
     "output_type": "stream",
     "text": [
      "initialized\n",
      "Minibatch loss at step 0: 679.376648\n",
      "Minibatch accuracy: 11.7%\n",
      "Validation accuracy: 20.4%\n",
      "Minibatch loss at step 500: 307.189423\n",
      "Minibatch accuracy: 75.8%\n",
      "Validation accuracy: 80.8%\n",
      "Minibatch loss at step 1000: 260.799438\n",
      "Minibatch accuracy: 85.9%\n",
      "Validation accuracy: 81.1%\n",
      "Minibatch loss at step 1500: 236.891418\n",
      "Minibatch accuracy: 81.2%\n",
      "Validation accuracy: 83.6%\n",
      "Minibatch loss at step 2000: 209.697937\n",
      "Minibatch accuracy: 88.3%\n",
      "Validation accuracy: 83.5%\n",
      "Minibatch loss at step 2500: 193.160141\n",
      "Minibatch accuracy: 83.6%\n",
      "Validation accuracy: 82.2%\n",
      "Minibatch loss at step 3000: 172.790833\n",
      "Minibatch accuracy: 88.3%\n",
      "Validation accuracy: 84.1%\n",
      "Test accuracy: 90.5%\n"
     ]
    }
   ],
   "source": [
    "\n",
    "num_steps=3001\n",
    " \n",
    "with tf.Session(graph=graph) as session:\n",
    "    \n",
    "    tf.initialize_all_variables().run()\n",
    "    print('initialized')\n",
    "    \n",
    "    for step in range(num_steps):\n",
    "        \n",
    "        offset=(step*batch_size)%(train_labels.shape[0]-batch_size)\n",
    "        \n",
    "        batch_data=train_dataset[offset:(offset+batch_size),:]\n",
    "        batch_labels=train_labels[offset:(offset+batch_size),:]\n",
    "        \n",
    "        feed_dict={tf_train_dataset:batch_data,tf_train_labels:batch_labels}\n",
    "        \n",
    "        _,l,predictions=session.run([optimizer,loss,train_prediction],feed_dict=feed_dict)\n",
    "        \n",
    "        if (step % 500 == 0):\n",
    "            print(\"Minibatch loss at step %d: %f\" % (step, l))\n",
    "            print(\"Minibatch accuracy: %.1f%%\" % accuracy(predictions, batch_labels))\n",
    "            print(\"Validation accuracy: %.1f%%\" % accuracy(\n",
    "            valid_prediction.eval(), valid_labels))\n",
    "    print(\"Test accuracy: %.1f%%\" % accuracy(test_prediction.eval(), test_labels))"
   ]
  },
  {
   "cell_type": "code",
   "execution_count": 6,
   "metadata": {
    "collapsed": true
   },
   "outputs": [],
   "source": [
    "#problem 2\n",
    "    \n",
    "train_subset=train_dataset[:3000,:]\n",
    "train_labels_subset=train_labels[:3000,:]\n",
    "\n",
    "hidden_size=1024\n",
    "batch_size =10\n",
    "\n",
    "beta1=0.001\n",
    "beta2=0.001\n",
    "\n",
    "graph=tf.Graph()\n",
    "\n",
    "with graph.as_default():\n",
    "    \n",
    "    tf_train_dataset=tf.placeholder(np.float32,shape=(batch_size,image_size*image_size))\n",
    "    tf_train_labels=tf.placeholder(np.float32,shape=(batch_size,num_labels))\n",
    "    tf_valid_dataset=tf.constant(valid_dataset)\n",
    "    tf_test_dataset=tf.constant(test_dataset)\n",
    "    \n",
    "    weights_1 = tf.Variable(\n",
    "    tf.truncated_normal([image_size * image_size, hidden_size]))\n",
    "    biases_1 = tf.Variable(tf.zeros([hidden_size]))\n",
    "    \n",
    "    hidden_1=tf.nn.relu(tf.matmul(tf_train_dataset,weights_1)+biases_1)\n",
    "    \n",
    "    weights_2 = tf.Variable(\n",
    "    tf.truncated_normal([hidden_size, num_labels]))\n",
    "    biases_2 = tf.Variable(tf.zeros([num_labels]))\n",
    "    \n",
    "    logits=tf.matmul(hidden_1,weights_2)+biases_2\n",
    "    loss = tf.reduce_mean(\n",
    "    tf.nn.softmax_cross_entropy_with_logits(logits, tf_train_labels))+beta1*tf.nn.l2_loss(weights_1)+beta2*tf.nn.l2_loss(weights_2)\n",
    "    \n",
    "    optimizer = tf.train.GradientDescentOptimizer(0.1).minimize(loss)\n",
    "\n",
    "    # Predictions for the training, validation, and test data.\n",
    "    train_prediction = tf.nn.softmax(logits)\n",
    "    valid_prediction = tf.nn.softmax(\n",
    "    tf.matmul(tf.nn.relu((tf.matmul(tf_valid_dataset, weights_1) + biases_1)),weights_2)+biases_2)\n",
    "    test_prediction = tf.nn.softmax(\n",
    "    tf.matmul(tf.nn.relu((tf.matmul(tf_test_dataset, weights_1) + biases_1)),weights_2)+biases_2)"
   ]
  },
  {
   "cell_type": "code",
   "execution_count": 8,
   "metadata": {
    "collapsed": false
   },
   "outputs": [
    {
     "name": "stdout",
     "output_type": "stream",
     "text": [
      "initialized\n",
      "Minibatch loss at step 0: 759.809204\n",
      "Minibatch accuracy: 0.0%\n",
      "Validation accuracy: 15.0%\n",
      "Minibatch loss at step 500: 291.736176\n",
      "Minibatch accuracy: 90.0%\n",
      "Validation accuracy: 77.3%\n",
      "Minibatch loss at step 1000: 265.216003\n",
      "Minibatch accuracy: 90.0%\n",
      "Validation accuracy: 79.1%\n",
      "Minibatch loss at step 1500: 243.937622\n",
      "Minibatch accuracy: 90.0%\n",
      "Validation accuracy: 79.3%\n",
      "Minibatch loss at step 2000: 213.481613\n",
      "Minibatch accuracy: 100.0%\n",
      "Validation accuracy: 80.6%\n",
      "Minibatch loss at step 2500: 193.554077\n",
      "Minibatch accuracy: 100.0%\n",
      "Validation accuracy: 80.3%\n",
      "Minibatch loss at step 3000: 175.348862\n",
      "Minibatch accuracy: 100.0%\n",
      "Validation accuracy: 80.9%\n",
      "Test accuracy: 87.7%\n"
     ]
    }
   ],
   "source": [
    "\n",
    "num_steps=3001\n",
    " \n",
    "with tf.Session(graph=graph) as session:\n",
    "    \n",
    "    tf.initialize_all_variables().run()\n",
    "    print('initialized')\n",
    "    \n",
    "    for step in range(num_steps):\n",
    "        \n",
    "        offset=(step*batch_size)%(train_labels_subset.shape[0]-batch_size)\n",
    "        \n",
    "        batch_data=train_subset[offset:(offset+batch_size),:]\n",
    "        batch_labels=train_labels_subset[offset:(offset+batch_size),:]\n",
    "        \n",
    "        feed_dict={tf_train_dataset:batch_data,tf_train_labels:batch_labels}\n",
    "        \n",
    "        _,l,predictions=session.run([optimizer,loss,train_prediction],feed_dict=feed_dict)\n",
    "        \n",
    "        if (step % 500 == 0):\n",
    "            print(\"Minibatch loss at step %d: %f\" % (step, l))\n",
    "            print(\"Minibatch accuracy: %.1f%%\" % accuracy(predictions, batch_labels))\n",
    "            print(\"Validation accuracy: %.1f%%\" % accuracy(\n",
    "            valid_prediction.eval(), valid_labels))\n",
    "    print(\"Test accuracy: %.1f%%\" % accuracy(test_prediction.eval(), test_labels))"
   ]
  },
  {
   "cell_type": "code",
   "execution_count": 7,
   "metadata": {
    "collapsed": true
   },
   "outputs": [],
   "source": [
    "#Problem 3\n",
    "#Dropouts\n",
    "\n",
    "graph=tf.Graph()\n",
    "\n",
    "with graph.as_default():\n",
    "    \n",
    "    tf_train_dataset=tf.placeholder(np.float32,shape=(batch_size,image_size*image_size))\n",
    "    tf_train_labels=tf.placeholder(np.float32,shape=(batch_size,num_labels))\n",
    "    tf_valid_dataset=tf.constant(valid_dataset)\n",
    "    tf_test_dataset=tf.constant(test_dataset)\n",
    "    \n",
    "    weights_1 = tf.Variable(\n",
    "    tf.truncated_normal([image_size * image_size, hidden_size]))\n",
    "    biases_1 = tf.Variable(tf.zeros([hidden_size]))\n",
    "    \n",
    "    hidden_1=tf.nn.relu(tf.matmul(tf_train_dataset,weights_1)+biases_1)\n",
    "    \n",
    "    hidden_1=tf.nn.dropout(hidden_1,0.5)\n",
    "    \n",
    "    weights_2 = tf.Variable(\n",
    "    tf.truncated_normal([hidden_size, num_labels]))\n",
    "    biases_2 = tf.Variable(tf.zeros([num_labels]))\n",
    "    \n",
    "    logits=tf.matmul(hidden_1,weights_2)+biases_2\n",
    "    loss = tf.reduce_mean(\n",
    "    tf.nn.softmax_cross_entropy_with_logits(logits, tf_train_labels))+beta1*tf.nn.l2_loss(weights_1)+beta2*tf.nn.l2_loss(weights_2)\n",
    "    \n",
    "    optimizer = tf.train.GradientDescentOptimizer(0.1).minimize(loss)\n",
    "\n",
    "    # Predictions for the training, validation, and test data.\n",
    "    train_prediction = tf.nn.softmax(logits)\n",
    "    valid_prediction = tf.nn.softmax(\n",
    "    tf.matmul(tf.nn.relu((tf.matmul(tf_valid_dataset, weights_1) + biases_1)),weights_2)+biases_2)\n",
    "    test_prediction = tf.nn.softmax(\n",
    "    tf.matmul(tf.nn.relu((tf.matmul(tf_test_dataset, weights_1) + biases_1)),weights_2)+biases_2)\n"
   ]
  },
  {
   "cell_type": "code",
   "execution_count": 70,
   "metadata": {
    "collapsed": false
   },
   "outputs": [
    {
     "name": "stdout",
     "output_type": "stream",
     "text": [
      "initialized\n",
      "Minibatch loss at step 0: 655.554993\n",
      "Minibatch accuracy: 15.6%\n",
      "Validation accuracy: 21.4%\n",
      "Minibatch loss at step 500: 247.203445\n",
      "Minibatch accuracy: 89.8%\n",
      "Validation accuracy: 81.5%\n",
      "Minibatch loss at step 1000: 220.895569\n",
      "Minibatch accuracy: 93.8%\n",
      "Validation accuracy: 82.0%\n",
      "Minibatch loss at step 1500: 199.135635\n",
      "Minibatch accuracy: 96.9%\n",
      "Validation accuracy: 82.0%\n",
      "Minibatch loss at step 2000: 179.870270\n",
      "Minibatch accuracy: 96.9%\n",
      "Validation accuracy: 82.3%\n",
      "Minibatch loss at step 2500: 162.386566\n",
      "Minibatch accuracy: 100.0%\n",
      "Validation accuracy: 82.3%\n",
      "Minibatch loss at step 3000: 147.124863\n",
      "Minibatch accuracy: 98.4%\n",
      "Validation accuracy: 82.4%\n",
      "Test accuracy: 89.4%\n"
     ]
    }
   ],
   "source": [
    "\n",
    "num_steps=3001\n",
    " \n",
    "with tf.Session(graph=graph) as session:\n",
    "    \n",
    "    tf.initialize_all_variables().run()\n",
    "    print('initialized')\n",
    "    \n",
    "    for step in range(num_steps):\n",
    "        \n",
    "        offset=(step*batch_size)%(train_labels_subset.shape[0]-batch_size)\n",
    "        \n",
    "        batch_data=train_subset[offset:(offset+batch_size),:]\n",
    "        batch_labels=train_labels_subset[offset:(offset+batch_size),:]\n",
    "        \n",
    "        feed_dict={tf_train_dataset:batch_data,tf_train_labels:batch_labels}\n",
    "        \n",
    "        _,l,predictions=session.run([optimizer,loss,train_prediction],feed_dict=feed_dict)\n",
    "        \n",
    "        if (step % 500 == 0):\n",
    "            print(\"Minibatch loss at step %d: %f\" % (step, l))\n",
    "            print(\"Minibatch accuracy: %.1f%%\" % accuracy(predictions, batch_labels))\n",
    "            print(\"Validation accuracy: %.1f%%\" % accuracy(\n",
    "            valid_prediction.eval(), valid_labels))\n",
    "    print(\"Test accuracy: %.1f%%\" % accuracy(test_prediction.eval(), test_labels))"
   ]
  },
  {
   "cell_type": "code",
   "execution_count": 12,
   "metadata": {
    "collapsed": false
   },
   "outputs": [],
   "source": [
    "#Problem 5\n",
    "hidden_size=1024\n",
    "hidden2_size=300\n",
    "\n",
    "batch_size=128\n",
    "\n",
    "beta1=0.01\n",
    "beta2=0.01\n",
    "beta3=0.0001\n",
    "\n",
    "graph=tf.Graph()\n",
    "\n",
    "with graph.as_default():\n",
    "    \n",
    "    tf_train_dataset=tf.placeholder(np.float32,shape=(batch_size,image_size*image_size))\n",
    "    tf_train_labels=tf.placeholder(np.float32,shape=(batch_size,num_labels))\n",
    "    tf_valid_dataset=tf.constant(valid_dataset)\n",
    "    tf_test_dataset=tf.constant(test_dataset)\n",
    "    \n",
    "    weights_1 = tf.Variable(\n",
    "    tf.truncated_normal([image_size * image_size, hidden_size]))\n",
    "    biases_1 = tf.Variable(tf.zeros([hidden_size]))\n",
    "    \n",
    "    hidden_1=tf.nn.relu(tf.matmul(tf_train_dataset,weights_1)+biases_1)\n",
    "    \n",
    "#     hidden_1=tf.nn.dropout(hidden_1,0.5)\n",
    "    \n",
    "    weights_2 = tf.Variable(\n",
    "    tf.truncated_normal([hidden_size, hidden2_size]))\n",
    "    biases_2 = tf.Variable(tf.zeros([hidden2_size]))\n",
    "    \n",
    "    hidden_2=tf.nn.relu(tf.matmul(hidden_1,weights_2)+biases_2)\n",
    "    \n",
    "#     hidden_2=tf.nn.dropout(hidden_2,0.5)\n",
    "  \n",
    "    weights_3 = tf.Variable(\n",
    "    tf.truncated_normal([hidden2_size, num_labels]))\n",
    "    biases_3 = tf.Variable(tf.zeros([num_labels]))\n",
    "    \n",
    "    logits=tf.matmul(hidden_2,weights_3)+biases_3\n",
    "    loss = tf.reduce_mean(\n",
    "    tf.nn.softmax_cross_entropy_with_logits(logits, tf_train_labels))+beta1*tf.nn.l2_loss(weights_1)+beta2*tf.nn.l2_loss(weights_2)\n",
    "    +beta3*tf.nn.l2_loss(weights_3)\n",
    "\n",
    "    \n",
    "    global_step = tf.Variable(0)  # count the number of steps taken.\n",
    "    learning_rate = tf.train.exponential_decay(0.04, global_step,1000,0.90,staircase=True)\n",
    "    optimizer = tf.train.GradientDescentOptimizer(learning_rate).minimize(loss, global_step=global_step)\n",
    "    \n",
    "#     optimizer = tf.train.GradientDescentOptimizer(0.01).minimize(loss)\n",
    "\n",
    "    # Predictions for the training, validation, and test data.\n",
    "    train_prediction = tf.nn.softmax(logits)\n",
    "    valid_prediction = tf.nn.softmax(\n",
    "    tf.matmul(tf.nn.relu(tf.matmul(tf.nn.relu(tf.matmul(tf_valid_dataset, weights_1) + biases_1),weights_2)+biases_2),weights_3)\n",
    "    +biases_3)\n",
    "    test_prediction = tf.nn.softmax(\n",
    "    tf.matmul(tf.nn.relu(tf.matmul(tf.nn.relu(tf.matmul(tf_test_dataset, weights_1) + biases_1),weights_2)+biases_2),weights_3)\n",
    "    +biases_3)"
   ]
  },
  {
   "cell_type": "code",
   "execution_count": null,
   "metadata": {
    "collapsed": false
   },
   "outputs": [
    {
     "name": "stdout",
     "output_type": "stream",
     "text": [
      "initialized\n",
      "Minibatch loss at step 0: 7708.342773\n",
      "Minibatch accuracy: 12.5%\n",
      "Validation accuracy: 25.4%\n",
      "Minibatch loss at step 1000: 1933.116211\n",
      "Minibatch accuracy: 55.5%\n",
      "Validation accuracy: 55.5%\n",
      "Minibatch loss at step 2000: 940.999756\n",
      "Minibatch accuracy: 64.8%\n",
      "Validation accuracy: 68.4%"
     ]
    }
   ],
   "source": [
    "num_steps=9001\n",
    "\n",
    "with tf.Session(graph=graph) as session:\n",
    "    \n",
    "    tf.initialize_all_variables().run()\n",
    "    print('initialized')\n",
    "    \n",
    "    for step in range(num_steps):\n",
    "        \n",
    "        offset=(step*batch_size)%(train_dataset.shape[0]-batch_size)\n",
    "        \n",
    "        batch_data=train_dataset[offset:(offset+batch_size),:]\n",
    "        batch_labels=train_labels[offset:(offset+batch_size),:]\n",
    "        \n",
    "        feed_dict={tf_train_dataset:batch_data,tf_train_labels:batch_labels}\n",
    "        \n",
    "        _,l,predictions=session.run([optimizer,loss,train_prediction],feed_dict=feed_dict)\n",
    "        \n",
    "        if (step % 1000 == 0):\n",
    "            print(\"Minibatch loss at step %d: %f\" % (step, l))\n",
    "            print(\"Minibatch accuracy: %.1f%%\" % accuracy(predictions, batch_labels))\n",
    "            print(\"Validation accuracy: %.1f%%\" % accuracy(\n",
    "            valid_prediction.eval(), valid_labels))\n",
    "            \n",
    "        global_step+=1\n",
    "    print(\"Test accuracy: %.1f%%\" % accuracy(test_prediction.eval(), test_labels))"
   ]
  },
  {
   "cell_type": "code",
   "execution_count": null,
   "metadata": {
    "collapsed": false
   },
   "outputs": [],
   "source": []
  }
 ],
 "metadata": {
  "kernelspec": {
   "display_name": "Python 3",
   "language": "python",
   "name": "python3"
  },
  "language_info": {
   "codemirror_mode": {
    "name": "ipython",
    "version": 3
   },
   "file_extension": ".py",
   "mimetype": "text/x-python",
   "name": "python",
   "nbconvert_exporter": "python",
   "pygments_lexer": "ipython3",
   "version": "3.4.4"
  }
 },
 "nbformat": 4,
 "nbformat_minor": 0
}
